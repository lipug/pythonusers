{
  "nbformat": 4,
  "nbformat_minor": 0,
  "metadata": {
    "colab": {
      "name": "lipug_gpu_fb_premier_exemple.ipynb",
      "provenance": [],
      "authorship_tag": "ABX9TyPS9xLiXATqMF7j1qInfzPS",
      "include_colab_link": true
    },
    "kernelspec": {
      "name": "python3",
      "display_name": "Python 3"
    }
  },
  "cells": [
    {
      "cell_type": "markdown",
      "metadata": {
        "id": "view-in-github",
        "colab_type": "text"
      },
      "source": [
        "<a href=\"https://colab.research.google.com/github/lipug/pythonusers/blob/main/lipug_gpu_fb_premier_exemple.ipynb\" target=\"_parent\"><img src=\"https://colab.research.google.com/assets/colab-badge.svg\" alt=\"Open In Colab\"/></a>"
      ]
    },
    {
      "cell_type": "markdown",
      "metadata": {
        "id": "ECdWe76fplAk"
      },
      "source": [
        "# Notre premier notebook avec '[Group Python Users](https://www.facebook.com/groups/436020131071232)'"
      ]
    },
    {
      "cell_type": "code",
      "metadata": {
        "id": "Of9eJpMNpj03"
      },
      "source": [
        "inc = lambda x: x + 1"
      ],
      "execution_count": 1,
      "outputs": []
    },
    {
      "cell_type": "code",
      "metadata": {
        "colab": {
          "base_uri": "https://localhost:8080/"
        },
        "id": "_9lcQPwOp4k_",
        "outputId": "5c5ced04-f0c7-4397-b28d-bc60f4ed46bd"
      },
      "source": [
        "inc(2)"
      ],
      "execution_count": 2,
      "outputs": [
        {
          "output_type": "execute_result",
          "data": {
            "text/plain": [
              "3"
            ]
          },
          "metadata": {
            "tags": []
          },
          "execution_count": 2
        }
      ]
    }
  ]
}